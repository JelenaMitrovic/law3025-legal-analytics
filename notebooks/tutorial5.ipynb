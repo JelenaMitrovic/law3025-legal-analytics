{
 "cells": [
  {
   "cell_type": "markdown",
   "metadata": {},
   "source": [
    "# Legal Analytics (LAW3025) - Tutorial 5: 'Visual Exploratory Data Analysis'\n",
    "\n",
    "*Version*: 2021/2022\n",
    "\n",
    "This notebook accompanies Chapter 6 of [Epstein and Martin's *An Introduction to Empirical Legal Research'*](https://maastrichtuniversity.on.worldcat.org/oclc/891136365), where Epstein and Martin explore the International Criminals Tribunals (ICT) dataset (available here: https://raw.githubusercontent.com/maastrichtlawtech/law3025-legal-analytics/main/data/dataset_ictData.csv)."
   ]
  },
  {
   "cell_type": "markdown",
   "metadata": {},
   "source": [
    "Last week, you delved deeper into data understanding with *numerical* Exploratory Data Analysis. Now, you will use *visual* methods of analysis that will give you an even better understanding of the data.\n"
   ]
  },
  {
   "cell_type": "markdown",
   "metadata": {},
   "source": [
    "## 1. Preliminaries"
   ]
  },
  {
   "cell_type": "code",
   "execution_count": null,
   "metadata": {},
   "outputs": [],
   "source": [
    "# import libraries\n",
    "import numpy as np\n",
    "import pandas as pd\n",
    "import matplotlib.pyplot as plt"
   ]
  },
  {
   "cell_type": "code",
   "execution_count": null,
   "metadata": {},
   "outputs": [],
   "source": [
    "# Load the dataset into a DataFrame named 'data'"
   ]
  },
  {
   "cell_type": "markdown",
   "metadata": {},
   "source": [
    "## 2. Visual EDA\n",
    "\n",
    "Visual exploratory data analysis can give you a very good grasp of your data. In this section, we will provide instructions and programmings tasks for the following data visualisations:\n",
    "\n",
    "- frequency distributions\n",
    "- bar charts\n",
    "- histograms\n",
    "- boxplots\n",
    "- scatterplots\n",
    "\n",
    "Epstein and Martin discuss two types of displays for summarizing data: *frequency distributions* and *histograms* in section 6.3 (p. 124 ff.). Let's start with replicating their tables and visualisations."
   ]
  },
  {
   "cell_type": "markdown",
   "metadata": {},
   "source": [
    "### 2.1.  Frequency distributions\n",
    "\n",
    "Frequency distributions are particularly helpful to display categorical data. Epstein and Martin state at p. 125: 'A frequency distribution is a table that contains the number of observations that fall into each of the variable's categories.'\n",
    "\n",
    "To count the values for each category of a variable, you can apply the `value_counts()` function to the relevant column of the DataFrame. The parameter `normalize` can be applied to switch between absolute and relative frequencies.\n",
    "\n",
    "Now, reproduce table 6.3 on page 125."
   ]
  },
  {
   "cell_type": "code",
   "execution_count": null,
   "metadata": {},
   "outputs": [],
   "source": [
    "# Count the frequencies for each value in crimRank and print the frequency table\n",
    "# Hint: you will need to define a table for both the absolute and relative frequencies and then concatenate them.\n",
    "# Hint: when using the concat() function, make sure to set the axis parameter right.\n"
   ]
  },
  {
   "cell_type": "markdown",
   "metadata": {},
   "source": [
    "### 2.2. Bar charts\n",
    "\n",
    "#### Bar charts are good\n",
    "\n",
    "An alternative, not mentioned in chapter 6 of Epstein and Martin, for  a frequency table is a bar chart. It is easiest to use the `DataFrame.plot.bar()` function. For horizontal bars, replace `bar` with `barh`.\n",
    "\n",
    "#### Pie charts are bad\n",
    "\n",
    "It is true, one can also use a [pie chart](https://en.wikipedia.org/wiki/Pie_chart), but they are generally considered a poor visualisation method. Bar charts are more generally more insightful as comparisons between bars are more informative than comparisons between pie slices."
   ]
  },
  {
   "cell_type": "code",
   "execution_count": null,
   "metadata": {},
   "outputs": [],
   "source": [
    "# Plot the absolute frequency of crimRank in an horizontal bar chart\n",
    "# Hint: do not forget the axes lables and the chart title.\n"
   ]
  },
  {
   "cell_type": "markdown",
   "metadata": {},
   "source": [
    "### 2.3. Histograms\n",
    "\n",
    "A histogram is a representation of the distribution of data. The y-axis shows the frequency of the values on the x-axis."
   ]
  },
  {
   "cell_type": "code",
   "execution_count": null,
   "metadata": {},
   "outputs": [],
   "source": [
    "# Plot a histogram of sentence\n"
   ]
  },
  {
   "cell_type": "markdown",
   "metadata": {},
   "source": [
    "#### Kernel Density Estimate plot\n",
    "\n",
    "Alternatively, you can make a kernel density estimate (KDE) plot. Think of it as a smoothed, continuous version of a histogram. Use the `DataFrame.plot()` function and set `kind = 'kde'`. Read the [Wikipedia page on kernel density estimation](https://en.wikipedia.org/wiki/Kernel_density_estimation) for more (technical) background information. The [example](https://en.wikipedia.org/wiki/Kernel_density_estimation#Example) is easiest to understand.\n",
    "\n",
    "One of the advantages of a KDE plot is that it is much easier to visually infer whether the distribution is distinctly skewed."
   ]
  },
  {
   "cell_type": "code",
   "execution_count": null,
   "metadata": {},
   "outputs": [],
   "source": [
    "# Make a KDE plot of sentence\n"
   ]
  },
  {
   "cell_type": "markdown",
   "metadata": {},
   "source": [
    "#### Cumulative Distribution Function (CDF)\n",
    "\n",
    "An alternative way to describe the distribution of data is to plot a Cumulative Distribution Function (CDF). This can be easily done with the `cumulative` parameter of the `DataFrame.hist()` function."
   ]
  },
  {
   "cell_type": "code",
   "execution_count": null,
   "metadata": {},
   "outputs": [],
   "source": [
    "# Plot a CDF of sentence\n"
   ]
  },
  {
   "cell_type": "markdown",
   "metadata": {},
   "source": [
    "#### Which tribunal's sentences are more dispersed?\n",
    "\n",
    "Epstein and Martin ask at page 130 which tribunal's sentences are more dispersed? One way to investigate this question is to make a histogram of `sentence` for each category of `tribunal`. Use the `DataFrame.hist()` function here."
   ]
  },
  {
   "cell_type": "code",
   "execution_count": null,
   "metadata": {},
   "outputs": [],
   "source": [
    "# Make histograms of sentence for each tribunal.\n",
    "# Hint: use the `by` parameter.\n"
   ]
  },
  {
   "cell_type": "markdown",
   "metadata": {},
   "source": [
    "Perhaps you'll find it difficult to answer the question on the basis of the histograms. Why not try comparing KDE plots for each tribunal?"
   ]
  },
  {
   "cell_type": "code",
   "execution_count": null,
   "metadata": {},
   "outputs": [],
   "source": [
    "# Step 1: subset the data by tribunal using the DataFrame.loc() function\n",
    "\n",
    "\n",
    "# Step 2: make the KDE plots\n",
    "\n",
    "\n",
    "# Step 3: define the legend, the label for the x-axis and show the plot\n"
   ]
  },
  {
   "cell_type": "markdown",
   "metadata": {},
   "source": [
    "### 2.4. Boxplots\n",
    "\n",
    "You can visualise the distrubution of data effectively in a boxplot. Epstein and Martin discuss boxplots at pages 247 and 262 to 264. Go to [Wikipedia](https://en.wikipedia.org/wiki/Box_plot) to learn more about boxplots. \n",
    "\n",
    "You can use the `DataFrame.boxplot()` function here.\n",
    "\n",
    "The whiskers of the plot are 1.5 times the IQR. By changing the parameter `showfliers` to `True` you can also visualise the outliers. See [pandas documentation](https://pandas.pydata.org/pandas-docs/stable/reference/api/pandas.DataFrame.boxplot.html) for more info.\n",
    "\n",
    "By including the parameter `by = 'category', ` into the code you can make individual boxplots by categories.\n",
    "\n",
    "Let's analyse `sentence` by `tribunal` again."
   ]
  },
  {
   "cell_type": "code",
   "execution_count": null,
   "metadata": {},
   "outputs": [],
   "source": [
    "# Make a boxplot of the column sentence\n"
   ]
  },
  {
   "cell_type": "code",
   "execution_count": null,
   "metadata": {},
   "outputs": [],
   "source": [
    "# Make boxplots of sentence for each category in tribunal\n"
   ]
  },
  {
   "cell_type": "markdown",
   "metadata": {},
   "source": [
    "### 2.5. Scatterplots\n",
    "\n",
    "If you want to make a scatterplot, you can use the following bit of code:\n",
    "\n",
    "    DataFrame.plot.scatter(x = 'VARIABLE', y = 'VARIABLE')\n",
    "\n",
    "`x` and `y` represent the columns which values to use as coordinates for the points on the respective axis of the plot.\n",
    "\n",
    "#### Application to the data\n",
    "One would expect that sentence length increases with the number of counts on which the defendant was found guilty."
   ]
  },
  {
   "cell_type": "code",
   "execution_count": null,
   "metadata": {},
   "outputs": [],
   "source": [
    "# Make an insightful scatterplot that explores the expectation that\n",
    "# sentence length increases with the number of counts on which the defendant was found guilty.\n"
   ]
  },
  {
   "cell_type": "markdown",
   "metadata": {},
   "source": [
    "## 3. Visualizations: the Good, the Bad and the Ugly\n",
    "\n",
    "Information visualisation is not as easy as it might seems. Delivering a \"good\" visual representation of the information you extracted from data is not always obvious, especially when examining complex datasets.\n",
    "\n",
    "When drawing a chart, it is important to assess its quality along the following dimensions:\n",
    "\n",
    "* Does it do a good job or a bad job of presenting the data? Why?\n",
    "* Does the presentation appear to be biased?\n",
    "* Are the axes labeled in a clear and informative way?\n",
    "* Is the color used effectively?\n",
    "* Is there *chartjunk* in the figure (i.e., visual elements that are not necessary to comprehend the represented information or that distract the viewer from this information)?\n",
    "\n",
    "Let's take an example. What is wrong with the following visualisations? How can we make them better?\n",
    "\n",
    "<p align=\"center\">\n",
    "    <img src='../img/bad2.png' height=\"400\" width=\"auto\">\n",
    "    <img src='../img/bad3.jpg' height=\"400\" width=\"auto\">\n",
    "    <img src='../img/bad1.png' height=\"400\" width=\"auto\">\n",
    "</p>"
   ]
  },
  {
   "cell_type": "markdown",
   "metadata": {},
   "source": [
    "**1st figure**:\n",
    "* ...\n",
    "* ...\n",
    "\n",
    "**2nd figure**:\n",
    "* ...\n",
    "* ...\n",
    "\n",
    "**3rd figure**:\n",
    "* ...\n",
    "* ..."
   ]
  },
  {
   "cell_type": "markdown",
   "metadata": {},
   "source": [
    "It's your turn now. Search online for two great and two bad visualisations. Assess each one of them along the previously mentioned dimensions. If you cannot find examples of bad visualisations, visit http://viz.wtf."
   ]
  },
  {
   "cell_type": "markdown",
   "metadata": {},
   "source": []
  }
 ],
 "metadata": {
  "kernelspec": {
   "display_name": "Python 3",
   "language": "python",
   "name": "python3"
  },
  "language_info": {
   "codemirror_mode": {
    "name": "ipython",
    "version": 3
   },
   "file_extension": ".py",
   "mimetype": "text/x-python",
   "name": "python",
   "nbconvert_exporter": "python",
   "pygments_lexer": "ipython3",
   "version": "3.8.5"
  }
 },
 "nbformat": 4,
 "nbformat_minor": 4
}
